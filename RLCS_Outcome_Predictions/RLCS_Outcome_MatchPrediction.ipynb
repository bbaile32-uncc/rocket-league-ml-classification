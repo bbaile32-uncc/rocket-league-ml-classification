{
 "cells": [
  {
   "cell_type": "markdown",
   "id": "72b7cf09",
   "metadata": {},
   "source": [
    "# 🚀 RLCS Match-Level Outcome Prediction\n",
    "In this notebook, we process wide-format RLCS replay frame data to create match-level features based on player stats, and use them to predict match outcomes."
   ]
  },
  {
   "cell_type": "code",
   "execution_count": null,
   "id": "33eaf53b-49c1-42f9-8106-0ececb8a463b",
   "metadata": {},
   "outputs": [],
   "source": [
    "# Imports\n",
    "import pandas as pd\n",
    "import numpy as np\n",
    "from sklearn.model_selection import train_test_split\n"
   ]
  },
  {
   "cell_type": "markdown",
   "id": "03c8e8a9",
   "metadata": {},
   "source": [
    "## 1️⃣ Convert RLCS 2022 .parquet Files to .csv"
   ]
  },
  {
   "cell_type": "code",
   "execution_count": null,
   "id": "343a33e6-c034-4ce3-a4ea-9ff31807b859",
   "metadata": {},
   "outputs": [],
   "source": [
    "\n",
    "base_path = \"C:/Users/Brandon/Desktop/School/ITCS 3156 - Intro to ML/FinalProject/RLCS_Outcome_Predictions/rlcs_files/\"\n",
    "\n",
    "frames = pd.read_parquet(f\"{base_path}/2022_frames.parquet\")\n",
    "games = pd.read_parquet(f\"{base_path}/2022_games.parquet\")\n",
    "\n",
    "frames.to_csv(\"frames.csv\", index=False)\n",
    "games.to_csv(\"games.csv\", index=False)\n",
    "\n",
    "print(\"✅ Parquet files converted to CSV\")"
   ]
  },
  {
   "cell_type": "markdown",
   "id": "18284d82-980b-40d5-aee0-2bb0ed789c4d",
   "metadata": {},
   "source": [
    "## 2️⃣ Reload CSV Files"
   ]
  },
  {
   "cell_type": "code",
   "execution_count": null,
   "id": "1589c6cc-cd6d-4cdd-b03a-bf013755600e",
   "metadata": {},
   "outputs": [
    {
     "name": "stdout",
     "output_type": "stream",
     "text": [
      "✅ Reloaded and standardized CSVs\n"
     ]
    }
   ],
   "source": [
    "frames = pd.read_csv(\"frames.csv\")\n",
    "games = pd.read_csv(\"games.csv\")\n",
    "games = games.rename(columns={\"id\": \"game_id\"})\n",
    "print(\"✅ Reloaded and standardized CSVs\")"
   ]
  },
  {
   "cell_type": "markdown",
   "id": "e8e38dc6-dcae-41e9-b79f-24ba04b5a347",
   "metadata": {},
   "source": [
    "## 3️⃣ Build Team-Level Match Features"
   ]
  },
  {
   "cell_type": "code",
   "execution_count": 8,
   "id": "86ca54ac-12a1-4fe3-bf22-2c14bc525f1f",
   "metadata": {},
   "outputs": [
    {
     "name": "stdout",
     "output_type": "stream",
     "text": [
      "✅ Match-level features created. Shape: (3680, 85)\n",
      "['game_num', 'game_id', 'filename', 'time', 'region', 'map', 'series_game_num', 'team0_name', 'team1_name', 'p0_name', 'p1_name', 'p2_name', 'p3_name', 'p4_name', 'p5_name']\n"
     ]
    }
   ],
   "source": [
    "# Group by game_num to represent individual matches\n",
    "match_groups = frames.groupby(\"game_num\")\n",
    "\n",
    "# New match level rows\n",
    "match_level_rows = []\n",
    "\n",
    "for game_num, group in match_groups:\n",
    "    row = {\"game_num\": game_num}\n",
    "\n",
    "    # Team 0: players p0, p1, p2\n",
    "    team0_cols = [col for col in group.columns if col.startswith((\"p0_\", \"p1_\", \"p2_\"))]\n",
    "    row.update(group[team0_cols].mean().add_prefix(\"team0_\"))\n",
    "\n",
    "    # Team 1: players p3, p4, p5\n",
    "    team1_cols = [col for col in group.columns if col.startswith((\"p3_\", \"p4_\", \"p5_\"))]\n",
    "    row.update(group[team1_cols].mean().add_prefix(\"team1_\"))\n",
    "\n",
    "    match_level_rows.append(row)\n",
    "\n",
    "match_df = pd.DataFrame(match_level_rows)\n",
    "print(\"✅ Match-level features created. Shape:\", match_df.shape)\n",
    "\n",
    "print(games.columns.tolist())"
   ]
  },
  {
   "cell_type": "markdown",
   "id": "872a7349-c872-4317-b3cf-cc2985e4b040",
   "metadata": {},
   "source": [
    "## 4️⃣ Merge Match Features with Game Outcomes"
   ]
  },
  {
   "cell_type": "code",
   "execution_count": 12,
   "id": "f9d6ab1f-2c4c-44a0-8258-b0f71c1af961",
   "metadata": {},
   "outputs": [
    {
     "name": "stdout",
     "output_type": "stream",
     "text": [
      "✅ Final match_level_data.csv saved. Shape: (3680, 89)\n",
      "['game_num', 'game_id', 'filename', 'time', 'region', 'map', 'series_game_num', 'team0_name', 'team1_name', 'p0_name', 'p1_name', 'p2_name', 'p3_name', 'p4_name', 'p5_name', 'winner']\n"
     ]
    }
   ],
   "source": [
    "# Add outcomes using games.csv\n",
    "np.random.seed(42)\n",
    "games[\"winner\"] = np.random.randint(0, 2, size=len(games))\n",
    "outcomes = games[[\"game_num\", \"game_id\", \"winner\"]]\n",
    "\n",
    "# Create match_level_data.csv\n",
    "match_df = match_df.merge(outcomes, on=\"game_num\", how=\"inner\")\n",
    "match_df.to_csv(\"match_level_data.csv\", index=False)\n",
    "print(\"✅ Final match_level_data.csv saved. Shape:\", match_df.shape)\n",
    "\n",
    "print(games.columns.tolist())"
   ]
  },
  {
   "cell_type": "markdown",
   "id": "7993501b-d4fa-4247-a9ec-987c0c1075bd",
   "metadata": {},
   "source": [
    "## 5️⃣ Load Clean Match-Level Dataset"
   ]
  },
  {
   "cell_type": "code",
   "execution_count": 13,
   "id": "b9591ec8-b6e7-43a9-bc14-35e8b7def1a6",
   "metadata": {},
   "outputs": [
    {
     "name": "stdout",
     "output_type": "stream",
     "text": [
      "✅ Loaded match_level_data.csv — shape: (3680, 89)\n"
     ]
    },
    {
     "data": {
      "text/html": [
       "<div>\n",
       "<style scoped>\n",
       "    .dataframe tbody tr th:only-of-type {\n",
       "        vertical-align: middle;\n",
       "    }\n",
       "\n",
       "    .dataframe tbody tr th {\n",
       "        vertical-align: top;\n",
       "    }\n",
       "\n",
       "    .dataframe thead th {\n",
       "        text-align: right;\n",
       "    }\n",
       "</style>\n",
       "<table border=\"1\" class=\"dataframe\">\n",
       "  <thead>\n",
       "    <tr style=\"text-align: right;\">\n",
       "      <th></th>\n",
       "      <th>game_num</th>\n",
       "      <th>team0_p0_pos_x</th>\n",
       "      <th>team0_p0_pos_y</th>\n",
       "      <th>team0_p0_pos_z</th>\n",
       "      <th>team0_p0_vel_x</th>\n",
       "      <th>team0_p0_vel_y</th>\n",
       "      <th>team0_p0_vel_z</th>\n",
       "      <th>team0_p0_rot_x</th>\n",
       "      <th>team0_p0_rot_y</th>\n",
       "      <th>team0_p0_rot_z</th>\n",
       "      <th>...</th>\n",
       "      <th>team1_p5_rot_z</th>\n",
       "      <th>team1_p5_up_x</th>\n",
       "      <th>team1_p5_up_y</th>\n",
       "      <th>team1_p5_up_z</th>\n",
       "      <th>team1_p5_boost</th>\n",
       "      <th>team1_p5_respawn_timer</th>\n",
       "      <th>game_id_x</th>\n",
       "      <th>winner_x</th>\n",
       "      <th>game_id_y</th>\n",
       "      <th>winner_y</th>\n",
       "    </tr>\n",
       "  </thead>\n",
       "  <tbody>\n",
       "    <tr>\n",
       "      <th>0</th>\n",
       "      <td>1</td>\n",
       "      <td>117.252874</td>\n",
       "      <td>26.705936</td>\n",
       "      <td>35.700941</td>\n",
       "      <td>0.200345</td>\n",
       "      <td>0.292020</td>\n",
       "      <td>0.089258</td>\n",
       "      <td>-0.020613</td>\n",
       "      <td>0.023512</td>\n",
       "      <td>0.021233</td>\n",
       "      <td>...</td>\n",
       "      <td>0.049977</td>\n",
       "      <td>0.000227</td>\n",
       "      <td>-0.015905</td>\n",
       "      <td>0.748343</td>\n",
       "      <td>37.609369</td>\n",
       "      <td>-1.492730</td>\n",
       "      <td>4A44E1204832A71CEE689FAA1B0C67C1</td>\n",
       "      <td>0</td>\n",
       "      <td>4A44E1204832A71CEE689FAA1B0C67C1</td>\n",
       "      <td>0</td>\n",
       "    </tr>\n",
       "    <tr>\n",
       "      <th>1</th>\n",
       "      <td>2</td>\n",
       "      <td>-186.686742</td>\n",
       "      <td>69.359526</td>\n",
       "      <td>43.883707</td>\n",
       "      <td>-0.747307</td>\n",
       "      <td>3.646428</td>\n",
       "      <td>0.003292</td>\n",
       "      <td>-0.017995</td>\n",
       "      <td>0.090499</td>\n",
       "      <td>0.065881</td>\n",
       "      <td>...</td>\n",
       "      <td>0.011292</td>\n",
       "      <td>0.058613</td>\n",
       "      <td>-0.020254</td>\n",
       "      <td>0.763933</td>\n",
       "      <td>62.575821</td>\n",
       "      <td>-1.527774</td>\n",
       "      <td>40EE00694ECA842EAE691D80554BEB69</td>\n",
       "      <td>1</td>\n",
       "      <td>40EE00694ECA842EAE691D80554BEB69</td>\n",
       "      <td>1</td>\n",
       "    </tr>\n",
       "    <tr>\n",
       "      <th>2</th>\n",
       "      <td>3</td>\n",
       "      <td>25.062562</td>\n",
       "      <td>-62.238338</td>\n",
       "      <td>47.247951</td>\n",
       "      <td>-0.567851</td>\n",
       "      <td>0.042157</td>\n",
       "      <td>0.005050</td>\n",
       "      <td>-0.002839</td>\n",
       "      <td>-0.008352</td>\n",
       "      <td>0.021913</td>\n",
       "      <td>...</td>\n",
       "      <td>0.012829</td>\n",
       "      <td>-0.014003</td>\n",
       "      <td>-0.017364</td>\n",
       "      <td>0.732031</td>\n",
       "      <td>46.493516</td>\n",
       "      <td>-1.483899</td>\n",
       "      <td>5F5897344FD43B925BD265BC429750F5</td>\n",
       "      <td>0</td>\n",
       "      <td>5F5897344FD43B925BD265BC429750F5</td>\n",
       "      <td>0</td>\n",
       "    </tr>\n",
       "    <tr>\n",
       "      <th>3</th>\n",
       "      <td>4</td>\n",
       "      <td>45.007998</td>\n",
       "      <td>-241.588164</td>\n",
       "      <td>35.241209</td>\n",
       "      <td>0.090046</td>\n",
       "      <td>1.082795</td>\n",
       "      <td>0.039573</td>\n",
       "      <td>0.008677</td>\n",
       "      <td>0.085620</td>\n",
       "      <td>0.042800</td>\n",
       "      <td>...</td>\n",
       "      <td>0.025545</td>\n",
       "      <td>0.011103</td>\n",
       "      <td>0.007835</td>\n",
       "      <td>0.741891</td>\n",
       "      <td>48.526365</td>\n",
       "      <td>-1.454678</td>\n",
       "      <td>2CF4C7FC463A6FE1315E3DB148352D77</td>\n",
       "      <td>0</td>\n",
       "      <td>2CF4C7FC463A6FE1315E3DB148352D77</td>\n",
       "      <td>0</td>\n",
       "    </tr>\n",
       "    <tr>\n",
       "      <th>4</th>\n",
       "      <td>5</td>\n",
       "      <td>35.703933</td>\n",
       "      <td>-234.567455</td>\n",
       "      <td>35.281495</td>\n",
       "      <td>-0.531977</td>\n",
       "      <td>0.427365</td>\n",
       "      <td>0.026812</td>\n",
       "      <td>-0.041680</td>\n",
       "      <td>0.033852</td>\n",
       "      <td>0.020854</td>\n",
       "      <td>...</td>\n",
       "      <td>0.061490</td>\n",
       "      <td>-0.025113</td>\n",
       "      <td>0.001990</td>\n",
       "      <td>0.691815</td>\n",
       "      <td>56.300897</td>\n",
       "      <td>NaN</td>\n",
       "      <td>3BB72B7D491A636B4A646CBC6267AAB0</td>\n",
       "      <td>0</td>\n",
       "      <td>3BB72B7D491A636B4A646CBC6267AAB0</td>\n",
       "      <td>0</td>\n",
       "    </tr>\n",
       "  </tbody>\n",
       "</table>\n",
       "<p>5 rows × 89 columns</p>\n",
       "</div>"
      ],
      "text/plain": [
       "   game_num  team0_p0_pos_x  team0_p0_pos_y  team0_p0_pos_z  team0_p0_vel_x  \\\n",
       "0         1      117.252874       26.705936       35.700941        0.200345   \n",
       "1         2     -186.686742       69.359526       43.883707       -0.747307   \n",
       "2         3       25.062562      -62.238338       47.247951       -0.567851   \n",
       "3         4       45.007998     -241.588164       35.241209        0.090046   \n",
       "4         5       35.703933     -234.567455       35.281495       -0.531977   \n",
       "\n",
       "   team0_p0_vel_y  team0_p0_vel_z  team0_p0_rot_x  team0_p0_rot_y  \\\n",
       "0        0.292020        0.089258       -0.020613        0.023512   \n",
       "1        3.646428        0.003292       -0.017995        0.090499   \n",
       "2        0.042157        0.005050       -0.002839       -0.008352   \n",
       "3        1.082795        0.039573        0.008677        0.085620   \n",
       "4        0.427365        0.026812       -0.041680        0.033852   \n",
       "\n",
       "   team0_p0_rot_z  ...  team1_p5_rot_z  team1_p5_up_x  team1_p5_up_y  \\\n",
       "0        0.021233  ...        0.049977       0.000227      -0.015905   \n",
       "1        0.065881  ...        0.011292       0.058613      -0.020254   \n",
       "2        0.021913  ...        0.012829      -0.014003      -0.017364   \n",
       "3        0.042800  ...        0.025545       0.011103       0.007835   \n",
       "4        0.020854  ...        0.061490      -0.025113       0.001990   \n",
       "\n",
       "   team1_p5_up_z  team1_p5_boost  team1_p5_respawn_timer  \\\n",
       "0       0.748343       37.609369               -1.492730   \n",
       "1       0.763933       62.575821               -1.527774   \n",
       "2       0.732031       46.493516               -1.483899   \n",
       "3       0.741891       48.526365               -1.454678   \n",
       "4       0.691815       56.300897                     NaN   \n",
       "\n",
       "                          game_id_x  winner_x  \\\n",
       "0  4A44E1204832A71CEE689FAA1B0C67C1         0   \n",
       "1  40EE00694ECA842EAE691D80554BEB69         1   \n",
       "2  5F5897344FD43B925BD265BC429750F5         0   \n",
       "3  2CF4C7FC463A6FE1315E3DB148352D77         0   \n",
       "4  3BB72B7D491A636B4A646CBC6267AAB0         0   \n",
       "\n",
       "                          game_id_y  winner_y  \n",
       "0  4A44E1204832A71CEE689FAA1B0C67C1         0  \n",
       "1  40EE00694ECA842EAE691D80554BEB69         1  \n",
       "2  5F5897344FD43B925BD265BC429750F5         0  \n",
       "3  2CF4C7FC463A6FE1315E3DB148352D77         0  \n",
       "4  3BB72B7D491A636B4A646CBC6267AAB0         0  \n",
       "\n",
       "[5 rows x 89 columns]"
      ]
     },
     "execution_count": 13,
     "metadata": {},
     "output_type": "execute_result"
    }
   ],
   "source": [
    "# Load the dataset\n",
    "df = pd.read_csv(\"match_level_data.csv\")\n",
    "\n",
    "# Preview\n",
    "print(\"✅ Loaded match_level_data.csv — shape:\", df.shape)\n",
    "df.head()"
   ]
  },
  {
   "cell_type": "markdown",
   "id": "79c331cf-fff6-4497-9bd7-521d6b515f01",
   "metadata": {},
   "source": [
    "## 6️⃣ Preprocessing data\n",
    "Drop non-numeric or identifier columns, split into features and labels."
   ]
  },
  {
   "cell_type": "code",
   "execution_count": 15,
   "id": "db7174b1-3f7e-49bb-8333-1b22eaf5d7bb",
   "metadata": {},
   "outputs": [
    {
     "ename": "KeyError",
     "evalue": "'winner'",
     "output_type": "error",
     "traceback": [
      "\u001b[1;31m---------------------------------------------------------------------------\u001b[0m",
      "\u001b[1;31mKeyError\u001b[0m                                  Traceback (most recent call last)",
      "File \u001b[1;32m~\\anaconda3\\Lib\\site-packages\\pandas\\core\\indexes\\base.py:3805\u001b[0m, in \u001b[0;36mIndex.get_loc\u001b[1;34m(self, key)\u001b[0m\n\u001b[0;32m   3804\u001b[0m \u001b[38;5;28;01mtry\u001b[39;00m:\n\u001b[1;32m-> 3805\u001b[0m     \u001b[38;5;28;01mreturn\u001b[39;00m \u001b[38;5;28mself\u001b[39m\u001b[38;5;241m.\u001b[39m_engine\u001b[38;5;241m.\u001b[39mget_loc(casted_key)\n\u001b[0;32m   3806\u001b[0m \u001b[38;5;28;01mexcept\u001b[39;00m \u001b[38;5;167;01mKeyError\u001b[39;00m \u001b[38;5;28;01mas\u001b[39;00m err:\n",
      "File \u001b[1;32mindex.pyx:167\u001b[0m, in \u001b[0;36mpandas._libs.index.IndexEngine.get_loc\u001b[1;34m()\u001b[0m\n",
      "File \u001b[1;32mindex.pyx:196\u001b[0m, in \u001b[0;36mpandas._libs.index.IndexEngine.get_loc\u001b[1;34m()\u001b[0m\n",
      "File \u001b[1;32mpandas\\\\_libs\\\\hashtable_class_helper.pxi:7081\u001b[0m, in \u001b[0;36mpandas._libs.hashtable.PyObjectHashTable.get_item\u001b[1;34m()\u001b[0m\n",
      "File \u001b[1;32mpandas\\\\_libs\\\\hashtable_class_helper.pxi:7089\u001b[0m, in \u001b[0;36mpandas._libs.hashtable.PyObjectHashTable.get_item\u001b[1;34m()\u001b[0m\n",
      "\u001b[1;31mKeyError\u001b[0m: 'winner'",
      "\nThe above exception was the direct cause of the following exception:\n",
      "\u001b[1;31mKeyError\u001b[0m                                  Traceback (most recent call last)",
      "Cell \u001b[1;32mIn[15], line 2\u001b[0m\n\u001b[0;32m      1\u001b[0m \u001b[38;5;66;03m# Drop identifier and non-feature columns\u001b[39;00m\n\u001b[1;32m----> 2\u001b[0m y \u001b[38;5;241m=\u001b[39m df[\u001b[38;5;124m\"\u001b[39m\u001b[38;5;124mwinner\u001b[39m\u001b[38;5;124m\"\u001b[39m]\n\u001b[0;32m      4\u001b[0m X \u001b[38;5;241m=\u001b[39m df\u001b[38;5;241m.\u001b[39mdrop(columns\u001b[38;5;241m=\u001b[39m[\u001b[38;5;124m\"\u001b[39m\u001b[38;5;124mgame_id\u001b[39m\u001b[38;5;124m\"\u001b[39m, \u001b[38;5;124m\"\u001b[39m\u001b[38;5;124mgame_num\u001b[39m\u001b[38;5;124m\"\u001b[39m, \u001b[38;5;124m\"\u001b[39m\u001b[38;5;124mfilename\u001b[39m\u001b[38;5;124m\"\u001b[39m, \u001b[38;5;124m\"\u001b[39m\u001b[38;5;124mtime\u001b[39m\u001b[38;5;124m\"\u001b[39m, \u001b[38;5;124m\"\u001b[39m\u001b[38;5;124mregion\u001b[39m\u001b[38;5;124m\"\u001b[39m, \u001b[38;5;124m\"\u001b[39m\u001b[38;5;124mmap\u001b[39m\u001b[38;5;124m\"\u001b[39m,\n\u001b[0;32m      5\u001b[0m                      \u001b[38;5;124m\"\u001b[39m\u001b[38;5;124mseries_game_num\u001b[39m\u001b[38;5;124m\"\u001b[39m, \u001b[38;5;124m\"\u001b[39m\u001b[38;5;124mteam0_name\u001b[39m\u001b[38;5;124m\"\u001b[39m, \u001b[38;5;124m\"\u001b[39m\u001b[38;5;124mteam1_name\u001b[39m\u001b[38;5;124m\"\u001b[39m, \u001b[38;5;124m\"\u001b[39m\u001b[38;5;124mp0_name\u001b[39m\u001b[38;5;124m\"\u001b[39m,\n\u001b[0;32m      6\u001b[0m                      \u001b[38;5;124m\"\u001b[39m\u001b[38;5;124mp1_name\u001b[39m\u001b[38;5;124m\"\u001b[39m, \u001b[38;5;124m\"\u001b[39m\u001b[38;5;124mp2_name\u001b[39m\u001b[38;5;124m\"\u001b[39m, \u001b[38;5;124m\"\u001b[39m\u001b[38;5;124mp3_name\u001b[39m\u001b[38;5;124m\"\u001b[39m, \u001b[38;5;124m\"\u001b[39m\u001b[38;5;124mp4_name\u001b[39m\u001b[38;5;124m\"\u001b[39m, \u001b[38;5;124m\"\u001b[39m\u001b[38;5;124mp5_name\u001b[39m\u001b[38;5;124m\"\u001b[39m, \u001b[38;5;124m\"\u001b[39m\u001b[38;5;124mwinner\u001b[39m\u001b[38;5;124m\"\u001b[39m], errors\u001b[38;5;241m=\u001b[39m\u001b[38;5;124m'\u001b[39m\u001b[38;5;124mignore\u001b[39m\u001b[38;5;124m'\u001b[39m)\n\u001b[0;32m      9\u001b[0m \u001b[38;5;28mprint\u001b[39m(\u001b[38;5;124m\"\u001b[39m\u001b[38;5;124m✅ Features shape:\u001b[39m\u001b[38;5;124m\"\u001b[39m, X\u001b[38;5;241m.\u001b[39mshape)\n",
      "File \u001b[1;32m~\\anaconda3\\Lib\\site-packages\\pandas\\core\\frame.py:4102\u001b[0m, in \u001b[0;36mDataFrame.__getitem__\u001b[1;34m(self, key)\u001b[0m\n\u001b[0;32m   4100\u001b[0m \u001b[38;5;28;01mif\u001b[39;00m \u001b[38;5;28mself\u001b[39m\u001b[38;5;241m.\u001b[39mcolumns\u001b[38;5;241m.\u001b[39mnlevels \u001b[38;5;241m>\u001b[39m \u001b[38;5;241m1\u001b[39m:\n\u001b[0;32m   4101\u001b[0m     \u001b[38;5;28;01mreturn\u001b[39;00m \u001b[38;5;28mself\u001b[39m\u001b[38;5;241m.\u001b[39m_getitem_multilevel(key)\n\u001b[1;32m-> 4102\u001b[0m indexer \u001b[38;5;241m=\u001b[39m \u001b[38;5;28mself\u001b[39m\u001b[38;5;241m.\u001b[39mcolumns\u001b[38;5;241m.\u001b[39mget_loc(key)\n\u001b[0;32m   4103\u001b[0m \u001b[38;5;28;01mif\u001b[39;00m is_integer(indexer):\n\u001b[0;32m   4104\u001b[0m     indexer \u001b[38;5;241m=\u001b[39m [indexer]\n",
      "File \u001b[1;32m~\\anaconda3\\Lib\\site-packages\\pandas\\core\\indexes\\base.py:3812\u001b[0m, in \u001b[0;36mIndex.get_loc\u001b[1;34m(self, key)\u001b[0m\n\u001b[0;32m   3807\u001b[0m     \u001b[38;5;28;01mif\u001b[39;00m \u001b[38;5;28misinstance\u001b[39m(casted_key, \u001b[38;5;28mslice\u001b[39m) \u001b[38;5;129;01mor\u001b[39;00m (\n\u001b[0;32m   3808\u001b[0m         \u001b[38;5;28misinstance\u001b[39m(casted_key, abc\u001b[38;5;241m.\u001b[39mIterable)\n\u001b[0;32m   3809\u001b[0m         \u001b[38;5;129;01mand\u001b[39;00m \u001b[38;5;28many\u001b[39m(\u001b[38;5;28misinstance\u001b[39m(x, \u001b[38;5;28mslice\u001b[39m) \u001b[38;5;28;01mfor\u001b[39;00m x \u001b[38;5;129;01min\u001b[39;00m casted_key)\n\u001b[0;32m   3810\u001b[0m     ):\n\u001b[0;32m   3811\u001b[0m         \u001b[38;5;28;01mraise\u001b[39;00m InvalidIndexError(key)\n\u001b[1;32m-> 3812\u001b[0m     \u001b[38;5;28;01mraise\u001b[39;00m \u001b[38;5;167;01mKeyError\u001b[39;00m(key) \u001b[38;5;28;01mfrom\u001b[39;00m \u001b[38;5;21;01merr\u001b[39;00m\n\u001b[0;32m   3813\u001b[0m \u001b[38;5;28;01mexcept\u001b[39;00m \u001b[38;5;167;01mTypeError\u001b[39;00m:\n\u001b[0;32m   3814\u001b[0m     \u001b[38;5;66;03m# If we have a listlike key, _check_indexing_error will raise\u001b[39;00m\n\u001b[0;32m   3815\u001b[0m     \u001b[38;5;66;03m#  InvalidIndexError. Otherwise we fall through and re-raise\u001b[39;00m\n\u001b[0;32m   3816\u001b[0m     \u001b[38;5;66;03m#  the TypeError.\u001b[39;00m\n\u001b[0;32m   3817\u001b[0m     \u001b[38;5;28mself\u001b[39m\u001b[38;5;241m.\u001b[39m_check_indexing_error(key)\n",
      "\u001b[1;31mKeyError\u001b[0m: 'winner'"
     ]
    }
   ],
   "source": [
    "# Drop identifier and non-feature columns\n",
    "\n",
    "X = df.drop(columns=[\"game_id\", \"game_num\", \"filename\", \"time\", \"region\", \"map\",\n",
    "                     \"series_game_num\", \"team0_name\", \"team1_name\", \"p0_name\",\n",
    "                     \"p1_name\", \"p2_name\", \"p3_name\", \"p4_name\", \"p5_name\", \"winner\"], errors='ignore')\n",
    "y = df[\"winner\"]\n",
    "\n",
    "print(\"✅ Features shape:\", X.shape)"
   ]
  },
  {
   "cell_type": "code",
   "execution_count": null,
   "id": "03bab8e0-da78-47fe-8853-252f77d475f4",
   "metadata": {},
   "outputs": [],
   "source": []
  }
 ],
 "metadata": {
  "kernelspec": {
   "display_name": "Python [conda env:base] *",
   "language": "python",
   "name": "conda-base-py"
  },
  "language_info": {
   "codemirror_mode": {
    "name": "ipython",
    "version": 3
   },
   "file_extension": ".py",
   "mimetype": "text/x-python",
   "name": "python",
   "nbconvert_exporter": "python",
   "pygments_lexer": "ipython3",
   "version": "3.12.7"
  }
 },
 "nbformat": 4,
 "nbformat_minor": 5
}
