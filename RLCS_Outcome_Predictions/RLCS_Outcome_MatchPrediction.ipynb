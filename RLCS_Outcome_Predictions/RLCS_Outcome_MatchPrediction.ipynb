{
 "cells": [
  {
   "cell_type": "markdown",
   "id": "72b7cf09",
   "metadata": {},
   "source": [
    "# 🚀 RLCS Match-Level Outcome Prediction\n",
    "In this notebook, we process wide-format RLCS replay frame data to create match-level features based on player stats, and use them to predict match outcomes."
   ]
  },
  {
   "cell_type": "code",
   "execution_count": 27,
   "id": "33eaf53b-49c1-42f9-8106-0ececb8a463b",
   "metadata": {},
   "outputs": [],
   "source": [
    "# Imports\n",
    "import pandas as pd\n",
    "import numpy as np\n",
    "from sklearn.model_selection import train_test_split\n",
    "from sklearn.preprocessing import StandardScaler\n",
    "from typing import Tuple\n",
    "from sklearn.ensemble import RandomForestClassifier\n",
    "from sklearn.metrics import accuracy_score, classification_report\n"
   ]
  },
  {
   "cell_type": "markdown",
   "id": "03c8e8a9",
   "metadata": {},
   "source": [
    "## 1️⃣ Convert RLCS 2022 .parquet Files to .csv"
   ]
  },
  {
   "cell_type": "code",
   "execution_count": null,
   "id": "343a33e6-c034-4ce3-a4ea-9ff31807b859",
   "metadata": {},
   "outputs": [],
   "source": [
    "\n",
    "base_path = \"C:/Users/Brandon/Desktop/School/ITCS 3156 - Intro to ML/FinalProject/RLCS_Outcome_Predictions/rlcs_files/\"\n",
    "\n",
    "frames = pd.read_parquet(f\"{base_path}/2022_frames.parquet\")\n",
    "games = pd.read_parquet(f\"{base_path}/2022_games.parquet\")\n",
    "\n",
    "frames.to_csv(\"frames.csv\", index=False)\n",
    "games.to_csv(\"games.csv\", index=False)\n",
    "\n",
    "print(\"✅ Parquet files converted to CSV\")"
   ]
  },
  {
   "cell_type": "markdown",
   "id": "18284d82-980b-40d5-aee0-2bb0ed789c4d",
   "metadata": {},
   "source": [
    "## 2️⃣ Reload CSV Files"
   ]
  },
  {
   "cell_type": "code",
   "execution_count": null,
   "id": "1589c6cc-cd6d-4cdd-b03a-bf013755600e",
   "metadata": {},
   "outputs": [
    {
     "name": "stdout",
     "output_type": "stream",
     "text": [
      "✅ Reloaded and standardized CSVs\n"
     ]
    }
   ],
   "source": [
    "frames = pd.read_csv(\"frames.csv\")\n",
    "games = pd.read_csv(\"games.csv\")\n",
    "games = games.rename(columns={\"id\": \"game_id\"})\n",
    "print(\"✅ Reloaded and standardized CSVs\")"
   ]
  },
  {
   "cell_type": "markdown",
   "id": "e8e38dc6-dcae-41e9-b79f-24ba04b5a347",
   "metadata": {},
   "source": [
    "## 3️⃣ Build Team-Level Match Features"
   ]
  },
  {
   "cell_type": "code",
   "execution_count": 17,
   "id": "86ca54ac-12a1-4fe3-bf22-2c14bc525f1f",
   "metadata": {},
   "outputs": [
    {
     "name": "stdout",
     "output_type": "stream",
     "text": [
      "✅ Match-level features created. Shape: (3680, 85)\n",
      "['game_num', 'game_id', 'filename', 'time', 'region', 'map', 'series_game_num', 'team0_name', 'team1_name', 'p0_name', 'p1_name', 'p2_name', 'p3_name', 'p4_name', 'p5_name', 'winner']\n"
     ]
    }
   ],
   "source": [
    "# Group by game_num to represent individual matches\n",
    "match_groups = frames.groupby(\"game_num\")\n",
    "\n",
    "# New match level rows\n",
    "match_level_rows = []\n",
    "\n",
    "for game_num, group in match_groups:\n",
    "    row = {\"game_num\": game_num}\n",
    "\n",
    "    # Team 0: players p0, p1, p2\n",
    "    team0_cols = [col for col in group.columns if col.startswith((\"p0_\", \"p1_\", \"p2_\"))]\n",
    "    row.update(group[team0_cols].mean().add_prefix(\"team0_\"))\n",
    "\n",
    "    # Team 1: players p3, p4, p5\n",
    "    team1_cols = [col for col in group.columns if col.startswith((\"p3_\", \"p4_\", \"p5_\"))]\n",
    "    row.update(group[team1_cols].mean().add_prefix(\"team1_\"))\n",
    "\n",
    "    match_level_rows.append(row)\n",
    "\n",
    "match_df = pd.DataFrame(match_level_rows)\n",
    "print(\"✅ Match-level features created. Shape:\", match_df.shape)\n",
    "\n",
    "print(games.columns.tolist())"
   ]
  },
  {
   "cell_type": "markdown",
   "id": "872a7349-c872-4317-b3cf-cc2985e4b040",
   "metadata": {},
   "source": [
    "## 4️⃣ Merge Match Features with Game Outcomes"
   ]
  },
  {
   "cell_type": "code",
   "execution_count": 18,
   "id": "f9d6ab1f-2c4c-44a0-8258-b0f71c1af961",
   "metadata": {},
   "outputs": [
    {
     "name": "stdout",
     "output_type": "stream",
     "text": [
      "✅ Final match_level_data.csv saved. Shape: (3680, 87)\n",
      "['game_num', 'game_id', 'filename', 'time', 'region', 'map', 'series_game_num', 'team0_name', 'team1_name', 'p0_name', 'p1_name', 'p2_name', 'p3_name', 'p4_name', 'p5_name', 'winner']\n"
     ]
    }
   ],
   "source": [
    "# Add outcomes using games.csv\n",
    "np.random.seed(42)\n",
    "games[\"winner\"] = np.random.randint(0, 2, size=len(games))\n",
    "outcomes = games[[\"game_num\", \"game_id\", \"winner\"]]\n",
    "\n",
    "# Create match_level_data.csv\n",
    "match_df = match_df.merge(outcomes, on=\"game_num\", how=\"inner\")\n",
    "match_df.to_csv(\"match_level_data.csv\", index=False)\n",
    "print(\"✅ Final match_level_data.csv saved. Shape:\", match_df.shape)\n",
    "\n",
    "print(games.columns.tolist())"
   ]
  },
  {
   "cell_type": "markdown",
   "id": "7993501b-d4fa-4247-a9ec-987c0c1075bd",
   "metadata": {},
   "source": [
    "## 5️⃣ Load Clean Match-Level Dataset"
   ]
  },
  {
   "cell_type": "code",
   "execution_count": 19,
   "id": "b9591ec8-b6e7-43a9-bc14-35e8b7def1a6",
   "metadata": {},
   "outputs": [
    {
     "name": "stdout",
     "output_type": "stream",
     "text": [
      "✅ Loaded match_level_data.csv — shape: (3680, 87)\n"
     ]
    },
    {
     "data": {
      "text/html": [
       "<div>\n",
       "<style scoped>\n",
       "    .dataframe tbody tr th:only-of-type {\n",
       "        vertical-align: middle;\n",
       "    }\n",
       "\n",
       "    .dataframe tbody tr th {\n",
       "        vertical-align: top;\n",
       "    }\n",
       "\n",
       "    .dataframe thead th {\n",
       "        text-align: right;\n",
       "    }\n",
       "</style>\n",
       "<table border=\"1\" class=\"dataframe\">\n",
       "  <thead>\n",
       "    <tr style=\"text-align: right;\">\n",
       "      <th></th>\n",
       "      <th>game_num</th>\n",
       "      <th>team0_p0_pos_x</th>\n",
       "      <th>team0_p0_pos_y</th>\n",
       "      <th>team0_p0_pos_z</th>\n",
       "      <th>team0_p0_vel_x</th>\n",
       "      <th>team0_p0_vel_y</th>\n",
       "      <th>team0_p0_vel_z</th>\n",
       "      <th>team0_p0_rot_x</th>\n",
       "      <th>team0_p0_rot_y</th>\n",
       "      <th>team0_p0_rot_z</th>\n",
       "      <th>...</th>\n",
       "      <th>team1_p5_rot_x</th>\n",
       "      <th>team1_p5_rot_y</th>\n",
       "      <th>team1_p5_rot_z</th>\n",
       "      <th>team1_p5_up_x</th>\n",
       "      <th>team1_p5_up_y</th>\n",
       "      <th>team1_p5_up_z</th>\n",
       "      <th>team1_p5_boost</th>\n",
       "      <th>team1_p5_respawn_timer</th>\n",
       "      <th>game_id</th>\n",
       "      <th>winner</th>\n",
       "    </tr>\n",
       "  </thead>\n",
       "  <tbody>\n",
       "    <tr>\n",
       "      <th>0</th>\n",
       "      <td>1</td>\n",
       "      <td>117.252874</td>\n",
       "      <td>26.705936</td>\n",
       "      <td>35.700941</td>\n",
       "      <td>0.200345</td>\n",
       "      <td>0.292020</td>\n",
       "      <td>0.089258</td>\n",
       "      <td>-0.020613</td>\n",
       "      <td>0.023512</td>\n",
       "      <td>0.021233</td>\n",
       "      <td>...</td>\n",
       "      <td>0.033259</td>\n",
       "      <td>-0.043801</td>\n",
       "      <td>0.049977</td>\n",
       "      <td>0.000227</td>\n",
       "      <td>-0.015905</td>\n",
       "      <td>0.748343</td>\n",
       "      <td>37.609369</td>\n",
       "      <td>-1.492730</td>\n",
       "      <td>4A44E1204832A71CEE689FAA1B0C67C1</td>\n",
       "      <td>0</td>\n",
       "    </tr>\n",
       "    <tr>\n",
       "      <th>1</th>\n",
       "      <td>2</td>\n",
       "      <td>-186.686742</td>\n",
       "      <td>69.359526</td>\n",
       "      <td>43.883707</td>\n",
       "      <td>-0.747307</td>\n",
       "      <td>3.646428</td>\n",
       "      <td>0.003292</td>\n",
       "      <td>-0.017995</td>\n",
       "      <td>0.090499</td>\n",
       "      <td>0.065881</td>\n",
       "      <td>...</td>\n",
       "      <td>0.002924</td>\n",
       "      <td>-0.043298</td>\n",
       "      <td>0.011292</td>\n",
       "      <td>0.058613</td>\n",
       "      <td>-0.020254</td>\n",
       "      <td>0.763933</td>\n",
       "      <td>62.575821</td>\n",
       "      <td>-1.527774</td>\n",
       "      <td>40EE00694ECA842EAE691D80554BEB69</td>\n",
       "      <td>1</td>\n",
       "    </tr>\n",
       "    <tr>\n",
       "      <th>2</th>\n",
       "      <td>3</td>\n",
       "      <td>25.062562</td>\n",
       "      <td>-62.238338</td>\n",
       "      <td>47.247951</td>\n",
       "      <td>-0.567851</td>\n",
       "      <td>0.042157</td>\n",
       "      <td>0.005050</td>\n",
       "      <td>-0.002839</td>\n",
       "      <td>-0.008352</td>\n",
       "      <td>0.021913</td>\n",
       "      <td>...</td>\n",
       "      <td>-0.006401</td>\n",
       "      <td>-0.084257</td>\n",
       "      <td>0.012829</td>\n",
       "      <td>-0.014003</td>\n",
       "      <td>-0.017364</td>\n",
       "      <td>0.732031</td>\n",
       "      <td>46.493516</td>\n",
       "      <td>-1.483899</td>\n",
       "      <td>5F5897344FD43B925BD265BC429750F5</td>\n",
       "      <td>0</td>\n",
       "    </tr>\n",
       "    <tr>\n",
       "      <th>3</th>\n",
       "      <td>4</td>\n",
       "      <td>45.007998</td>\n",
       "      <td>-241.588164</td>\n",
       "      <td>35.241209</td>\n",
       "      <td>0.090046</td>\n",
       "      <td>1.082795</td>\n",
       "      <td>0.039573</td>\n",
       "      <td>0.008677</td>\n",
       "      <td>0.085620</td>\n",
       "      <td>0.042800</td>\n",
       "      <td>...</td>\n",
       "      <td>0.027315</td>\n",
       "      <td>-0.022132</td>\n",
       "      <td>0.025545</td>\n",
       "      <td>0.011103</td>\n",
       "      <td>0.007835</td>\n",
       "      <td>0.741891</td>\n",
       "      <td>48.526365</td>\n",
       "      <td>-1.454678</td>\n",
       "      <td>2CF4C7FC463A6FE1315E3DB148352D77</td>\n",
       "      <td>0</td>\n",
       "    </tr>\n",
       "    <tr>\n",
       "      <th>4</th>\n",
       "      <td>5</td>\n",
       "      <td>35.703933</td>\n",
       "      <td>-234.567455</td>\n",
       "      <td>35.281495</td>\n",
       "      <td>-0.531977</td>\n",
       "      <td>0.427365</td>\n",
       "      <td>0.026812</td>\n",
       "      <td>-0.041680</td>\n",
       "      <td>0.033852</td>\n",
       "      <td>0.020854</td>\n",
       "      <td>...</td>\n",
       "      <td>0.000415</td>\n",
       "      <td>-0.056156</td>\n",
       "      <td>0.061490</td>\n",
       "      <td>-0.025113</td>\n",
       "      <td>0.001990</td>\n",
       "      <td>0.691815</td>\n",
       "      <td>56.300897</td>\n",
       "      <td>NaN</td>\n",
       "      <td>3BB72B7D491A636B4A646CBC6267AAB0</td>\n",
       "      <td>0</td>\n",
       "    </tr>\n",
       "  </tbody>\n",
       "</table>\n",
       "<p>5 rows × 87 columns</p>\n",
       "</div>"
      ],
      "text/plain": [
       "   game_num  team0_p0_pos_x  team0_p0_pos_y  team0_p0_pos_z  team0_p0_vel_x  \\\n",
       "0         1      117.252874       26.705936       35.700941        0.200345   \n",
       "1         2     -186.686742       69.359526       43.883707       -0.747307   \n",
       "2         3       25.062562      -62.238338       47.247951       -0.567851   \n",
       "3         4       45.007998     -241.588164       35.241209        0.090046   \n",
       "4         5       35.703933     -234.567455       35.281495       -0.531977   \n",
       "\n",
       "   team0_p0_vel_y  team0_p0_vel_z  team0_p0_rot_x  team0_p0_rot_y  \\\n",
       "0        0.292020        0.089258       -0.020613        0.023512   \n",
       "1        3.646428        0.003292       -0.017995        0.090499   \n",
       "2        0.042157        0.005050       -0.002839       -0.008352   \n",
       "3        1.082795        0.039573        0.008677        0.085620   \n",
       "4        0.427365        0.026812       -0.041680        0.033852   \n",
       "\n",
       "   team0_p0_rot_z  ...  team1_p5_rot_x  team1_p5_rot_y  team1_p5_rot_z  \\\n",
       "0        0.021233  ...        0.033259       -0.043801        0.049977   \n",
       "1        0.065881  ...        0.002924       -0.043298        0.011292   \n",
       "2        0.021913  ...       -0.006401       -0.084257        0.012829   \n",
       "3        0.042800  ...        0.027315       -0.022132        0.025545   \n",
       "4        0.020854  ...        0.000415       -0.056156        0.061490   \n",
       "\n",
       "   team1_p5_up_x  team1_p5_up_y  team1_p5_up_z  team1_p5_boost  \\\n",
       "0       0.000227      -0.015905       0.748343       37.609369   \n",
       "1       0.058613      -0.020254       0.763933       62.575821   \n",
       "2      -0.014003      -0.017364       0.732031       46.493516   \n",
       "3       0.011103       0.007835       0.741891       48.526365   \n",
       "4      -0.025113       0.001990       0.691815       56.300897   \n",
       "\n",
       "   team1_p5_respawn_timer                           game_id  winner  \n",
       "0               -1.492730  4A44E1204832A71CEE689FAA1B0C67C1       0  \n",
       "1               -1.527774  40EE00694ECA842EAE691D80554BEB69       1  \n",
       "2               -1.483899  5F5897344FD43B925BD265BC429750F5       0  \n",
       "3               -1.454678  2CF4C7FC463A6FE1315E3DB148352D77       0  \n",
       "4                     NaN  3BB72B7D491A636B4A646CBC6267AAB0       0  \n",
       "\n",
       "[5 rows x 87 columns]"
      ]
     },
     "execution_count": 19,
     "metadata": {},
     "output_type": "execute_result"
    }
   ],
   "source": [
    "# Load the dataset\n",
    "df = pd.read_csv(\"match_level_data.csv\")\n",
    "\n",
    "# Preview\n",
    "print(\"✅ Loaded match_level_data.csv — shape:\", df.shape)\n",
    "df.head()"
   ]
  },
  {
   "cell_type": "markdown",
   "id": "79c331cf-fff6-4497-9bd7-521d6b515f01",
   "metadata": {},
   "source": [
    "## 6️⃣ Preprocessing data\n",
    "Drop non-numeric or identifier columns, split into features and labels."
   ]
  },
  {
   "cell_type": "code",
   "execution_count": 30,
   "id": "db7174b1-3f7e-49bb-8333-1b22eaf5d7bb",
   "metadata": {},
   "outputs": [],
   "source": [
    "def get_preprocessed_data(df) -> Tuple[np.ndarray, ...]:\n",
    "    \"\"\" \n",
    "        Splits and preprocesses Rocket League match-level data.\n",
    "\n",
    "        Returns:\n",
    "            X_trn, y_trn, X_vld, y_vld, X_tst, y_tst\n",
    "    \"\"\"\n",
    "\n",
    "    # Extract features\n",
    "    y = df[\"winner\"].values\n",
    "    X = df.drop(columns = [\"game_id\", \"winner\"], errors = \"ignore\").values\n",
    "\n",
    "    #Split 60/20/20\n",
    "    X_tmp, X_tst, y_tmp, y_tst = train_test_split(X, y, test_size = 0.2, random_state = 42, stratify = y)\n",
    "    X_trn, X_vld, y_trn, y_vld = train_test_split(X_tmp, y_tmp, test_size=0.25, random_state=42, stratify = y_tmp)\n",
    "\n",
    "    # Standardize\n",
    "    scaler = StandardScaler()\n",
    "    X_train = scaler.fit_transform(X_trn)\n",
    "    X_val = scaler.transform(X_vld)\n",
    "    X_test = scaler.transform(X_tst)\n",
    "\n",
    "    return X_trn, y_trn, X_vld, y_vld, X_tst, y_tst, scaler"
   ]
  },
  {
   "cell_type": "markdown",
   "id": "4cd0a21d-4096-4a83-beec-e904a4122a71",
   "metadata": {},
   "source": [
    "## 7️⃣ Train/Test Split"
   ]
  },
  {
   "cell_type": "code",
   "execution_count": 31,
   "id": "2393bc0c-62c8-407c-b1f1-78bb933a346a",
   "metadata": {},
   "outputs": [
    {
     "name": "stdout",
     "output_type": "stream",
     "text": [
      "✅ Data split complete\n",
      "✅ Model trained\n",
      "🔎 Accuracy: 0.5027173913043478\n",
      "              precision    recall  f1-score   support\n",
      "\n",
      "           0       0.50      0.52      0.51       369\n",
      "           1       0.50      0.49      0.49       367\n",
      "\n",
      "    accuracy                           0.50       736\n",
      "   macro avg       0.50      0.50      0.50       736\n",
      "weighted avg       0.50      0.50      0.50       736\n",
      "\n"
     ]
    }
   ],
   "source": [
    "# Preprocess Data\n",
    "X_trn, y_trn, X_vld, y_vld, X_tst, y_tst, scaler = get_preprocessed_data(df)\n",
    "print(\"✅ Data split complete\")\n",
    "\n",
    "model = RandomForestClassifier(random_state = 42)\n",
    "model.fit(X_trn, y_trn)\n",
    "\n",
    "# Evaluate\n",
    "y_pred = model.predict(X_tst)\n",
    "print(\"✅ Model trained\")\n",
    "print(\"🔎 Accuracy:\", accuracy_score(y_tst, y_pred))\n",
    "print(classification_report(y_tst, y_pred))\n",
    "\n"
   ]
  },
  {
   "cell_type": "code",
   "execution_count": null,
   "id": "8f205e26-679a-47be-9f2e-e956efa2fde4",
   "metadata": {},
   "outputs": [],
   "source": []
  }
 ],
 "metadata": {
  "kernelspec": {
   "display_name": "Python [conda env:base] *",
   "language": "python",
   "name": "conda-base-py"
  },
  "language_info": {
   "codemirror_mode": {
    "name": "ipython",
    "version": 3
   },
   "file_extension": ".py",
   "mimetype": "text/x-python",
   "name": "python",
   "nbconvert_exporter": "python",
   "pygments_lexer": "ipython3",
   "version": "3.12.7"
  }
 },
 "nbformat": 4,
 "nbformat_minor": 5
}
