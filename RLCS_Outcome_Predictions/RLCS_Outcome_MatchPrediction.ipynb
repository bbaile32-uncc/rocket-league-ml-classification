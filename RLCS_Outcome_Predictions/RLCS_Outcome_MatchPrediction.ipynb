{
 "cells": [
  {
   "cell_type": "markdown",
   "id": "72b7cf09",
   "metadata": {},
   "source": [
    "# 🚀 RLCS Match-Level Outcome Prediction\n",
    "In this notebook, we process wide-format RLCS replay frame data to create match-level features based on player stats, and use them to predict match outcomes."
   ]
  },
  {
   "cell_type": "markdown",
   "id": "03c8e8a9",
   "metadata": {},
   "source": [
    "## 1️⃣ Convert RLCS 2022 .parquet Files to .csv"
   ]
  },
  {
   "cell_type": "code",
   "execution_count": null,
   "id": "343a33e6-c034-4ce3-a4ea-9ff31807b859",
   "metadata": {},
   "outputs": [],
   "source": [
    "import pandas as pd\n",
    "\n",
    "base_path = \"C:/Users/Brandon/Desktop/School/ITCS 3156 - Intro to ML/FinalProject/RLCS_Outcome_Predictions/rlcs_files/\"\n",
    "\n",
    "frames = pd.read_parquet(f\"{base_path}/2022_frames.parquet\")\n",
    "games = pd.read_parquet(f\"{base_path}/2022_games.parquet\")\n",
    "\n",
    "frames.to_csv(\"frames.csv\", index=False)\n",
    "games.to_csv(\"games.csv\", index=False)\n",
    "\n",
    "print(\"✅ Parquet files converted to CSV\")"
   ]
  },
  {
   "cell_type": "markdown",
   "id": "18284d82-980b-40d5-aee0-2bb0ed789c4d",
   "metadata": {},
   "source": [
    "## 2️⃣ Reload CSV Files"
   ]
  },
  {
   "cell_type": "code",
   "execution_count": null,
   "id": "1589c6cc-cd6d-4cdd-b03a-bf013755600e",
   "metadata": {},
   "outputs": [
    {
     "name": "stdout",
     "output_type": "stream",
     "text": [
      "✅ Reloaded and standardized CSVs\n"
     ]
    }
   ],
   "source": [
    "frames = pd.read_csv(\"frames.csv\")\n",
    "games = pd.read_csv(\"games.csv\")\n",
    "games = games.rename(columns={\"id\": \"game_id\"})\n",
    "print(\"✅ Reloaded and standardized CSVs\")"
   ]
  },
  {
   "cell_type": "markdown",
   "id": "e8e38dc6-dcae-41e9-b79f-24ba04b5a347",
   "metadata": {},
   "source": [
    "## 3️⃣ Build Team-Level Match Features"
   ]
  },
  {
   "cell_type": "code",
   "execution_count": 8,
   "id": "86ca54ac-12a1-4fe3-bf22-2c14bc525f1f",
   "metadata": {},
   "outputs": [
    {
     "name": "stdout",
     "output_type": "stream",
     "text": [
      "✅ Match-level features created. Shape: (3680, 85)\n",
      "['game_num', 'game_id', 'filename', 'time', 'region', 'map', 'series_game_num', 'team0_name', 'team1_name', 'p0_name', 'p1_name', 'p2_name', 'p3_name', 'p4_name', 'p5_name']\n"
     ]
    }
   ],
   "source": [
    "# Group by game_num to represent individual matches\n",
    "match_groups = frames.groupby(\"game_num\")\n",
    "\n",
    "# New match level rows\n",
    "match_level_rows = []\n",
    "\n",
    "for game_num, group in match_groups:\n",
    "    row = {\"game_num\": game_num}\n",
    "\n",
    "    # Team 0: players p0, p1, p2\n",
    "    team0_cols = [col for col in group.columns if col.startswith((\"p0_\", \"p1_\", \"p2_\"))]\n",
    "    row.update(group[team0_cols].mean().add_prefix(\"team0_\"))\n",
    "\n",
    "    # Team 1: players p3, p4, p5\n",
    "    team1_cols = [col for col in group.columns if col.startswith((\"p3_\", \"p4_\", \"p5_\"))]\n",
    "    row.update(group[team1_cols].mean().add_prefix(\"team1_\"))\n",
    "\n",
    "    match_level_rows.append(row)\n",
    "\n",
    "match_df = pd.DataFrame(match_level_rows)\n",
    "print(\"✅ Match-level features created. Shape:\", match_df.shape)\n",
    "\n",
    "print(games.columns.tolist())"
   ]
  },
  {
   "cell_type": "code",
   "execution_count": null,
   "id": "05aca9de-df6d-4aa8-b3f3-eb2c090632c3",
   "metadata": {},
   "outputs": [],
   "source": []
  }
 ],
 "metadata": {
  "kernelspec": {
   "display_name": "Python [conda env:base] *",
   "language": "python",
   "name": "conda-base-py"
  },
  "language_info": {
   "codemirror_mode": {
    "name": "ipython",
    "version": 3
   },
   "file_extension": ".py",
   "mimetype": "text/x-python",
   "name": "python",
   "nbconvert_exporter": "python",
   "pygments_lexer": "ipython3",
   "version": "3.12.7"
  }
 },
 "nbformat": 4,
 "nbformat_minor": 5
}
