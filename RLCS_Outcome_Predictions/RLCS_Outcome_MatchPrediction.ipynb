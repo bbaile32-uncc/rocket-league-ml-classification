{
 "cells": [
  {
   "cell_type": "markdown",
   "id": "72b7cf09",
   "metadata": {},
   "source": [
    "# 🚀 RLCS Match-Level Outcome Prediction\n",
    "In this notebook, we process wide-format RLCS replay frame data to create match-level features based on player stats, and use them to predict match outcomes."
   ]
  },
  {
   "cell_type": "markdown",
   "id": "03c8e8a9",
   "metadata": {},
   "source": [
    "## 1️⃣ Convert RLCS 2022 .parquet Files to .csv"
   ]
  },
  {
   "cell_type": "code",
   "execution_count": null,
   "id": "343a33e6-c034-4ce3-a4ea-9ff31807b859",
   "metadata": {},
   "outputs": [],
   "source": [
    "import pandas as pd\n",
    "\n",
    "base_path = \"C:/Users/Brandon/Desktop/School/ITCS 3156 - Intro to ML/FinalProject/RLCS_Outcome_Predictions/rlcs_files/\"\n",
    "\n",
    "frames = pd.read_parquet(f\"{base_path}/2022_frames.parquet\")\n",
    "games = pd.read_parquet(f\"{base_path}/2022_games.parquet\")\n",
    "\n",
    "frames.to_csv(\"frames.csv\", index=False)\n",
    "games.to_csv(\"games.csv\", index=False)\n",
    "\n",
    "print(\"✅ Parquet files converted to CSV\")"
   ]
  },
  {
   "cell_type": "code",
   "execution_count": 5,
   "id": "86406b1f-4b2e-4b4c-a50c-b82a601fdeee",
   "metadata": {},
   "outputs": [
    {
     "name": "stdout",
     "output_type": "stream",
     "text": [
      "✅ Reloaded and standardized CSVs\n"
     ]
    }
   ],
   "source": [
    "## 2️⃣ Reload CSV Files\n",
    "\n",
    "frames = pd.read_csv(\"frames.csv\")\n",
    "games = pd.read_csv(\"games.csv\")\n",
    "games = games.rename(columns={\"id\": \"game_id\"})\n",
    "print(\"✅ Reloaded and standardized CSVs\")"
   ]
  },
  {
   "cell_type": "code",
   "execution_count": null,
   "id": "25c48509-5528-4a65-bde5-2cf04730d3cc",
   "metadata": {},
   "outputs": [],
   "source": []
  }
 ],
 "metadata": {
  "kernelspec": {
   "display_name": "Python [conda env:base] *",
   "language": "python",
   "name": "conda-base-py"
  },
  "language_info": {
   "codemirror_mode": {
    "name": "ipython",
    "version": 3
   },
   "file_extension": ".py",
   "mimetype": "text/x-python",
   "name": "python",
   "nbconvert_exporter": "python",
   "pygments_lexer": "ipython3",
   "version": "3.12.7"
  }
 },
 "nbformat": 4,
 "nbformat_minor": 5
}
